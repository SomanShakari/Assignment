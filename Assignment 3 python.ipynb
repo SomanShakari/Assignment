{
 "cells": [
  {
   "cell_type": "code",
   "execution_count": null,
   "id": "04a8718d",
   "metadata": {},
   "outputs": [],
   "source": [
    "# Assignment 3 python"
   ]
  },
  {
   "cell_type": "code",
   "execution_count": 4,
   "id": "10957a96",
   "metadata": {},
   "outputs": [
    {
     "name": "stdout",
     "output_type": "stream",
     "text": [
      "Enter number please to check whether it is Positive, Negative or Zero: sdf\n",
      "Invalid input! Please enter a valid number.\n"
     ]
    }
   ],
   "source": [
    "# 1. Write a Python Program to Check if a Number is Positive, Negative or Zero?\n",
    "\n",
    "def check_number(number):\n",
    "    if (number > 0 ):\n",
    "        message = \"The number you have entered is positive number.\"\n",
    "    elif (number < 0 ):\n",
    "        message = \"The number you have entered is negative number.\"\n",
    "    else:\n",
    "        message = \"The number you have entered is zero.\"\n",
    "    return message\n",
    "\n",
    "try:\n",
    "    number = int(input(\"Enter number please to check whether it is Positive, Negative or Zero: \"))\n",
    "    result_check_number = check_number(number)\n",
    "    print(\"%s\"%result_check_number)\n",
    "    \n",
    "except ValueError:\n",
    "    print(\"Invalid input! Please enter a valid number.\")\n",
    "\n"
   ]
  },
  {
   "cell_type": "code",
   "execution_count": null,
   "id": "b9ce925d",
   "metadata": {},
   "outputs": [
    {
     "name": "stdout",
     "output_type": "stream",
     "text": [
      "Enter a number to check if it's odd or even: 9\n",
      "The number 9 is Odd.\n"
     ]
    }
   ],
   "source": [
    "# 2. Write a Python Program to Check if a Number is Odd or Even?\n",
    "\n",
    "def check_odd_even(number):\n",
    "    if number % 2 == 0:\n",
    "        return \"Even\"\n",
    "    else:\n",
    "        return \"Odd\"\n",
    "\n",
    "def main():\n",
    "    choice = 'yes'\n",
    "    try:\n",
    "        while choice == 'yes':\n",
    "            try:\n",
    "                number = int(input(\"Enter a number to check if it's odd or even: \"))\n",
    "                result_check_odd_even = check_odd_even(number)\n",
    "                print(f\"The number {number} is {result_check_odd_even}.\")\n",
    "                choice = input(\"Do you want to continue (yes/no)? \").lower()\n",
    "                \n",
    "            except ValueError:\n",
    "                print(\"Invalid input! Please enter a valid number.\")\n",
    "                choice = input(\"Do you want to continue (yes/no)? \").lower()\n",
    "                \n",
    "            if choice == 'no':\n",
    "                print(\"Exiting the program.\")\n",
    "                break\n",
    "                \n",
    "            elif choice != 'yes':\n",
    "                print(\"Invalid choice! Please enter 'yes' or 'no'.\")\n",
    "                \n",
    "    except ValueError:\n",
    "        print(\"Invalid choice! Please enter 'yes' or 'no'.\")\n",
    "\n",
    "if __name__ == \"__main__\":\n",
    "    main()\n"
   ]
  },
  {
   "cell_type": "code",
   "execution_count": null,
   "id": "64cfbf0e",
   "metadata": {},
   "outputs": [],
   "source": [
    "# 3. Write a Python Program to Check Leap Year?\n",
    "def is_leap_year(year):\n",
    "    \"\"\"\n",
    "    Function to check if a given year is a leap year.\n",
    "    \"\"\"\n",
    "    if (year % 4 == 0):\n",
    "        if (year % 100 == 0):\n",
    "            if (year % 400 == 0):\n",
    "                return True\n",
    "            else:\n",
    "                return False\n",
    "        else:\n",
    "            return True\n",
    "    else:\n",
    "        return False\n",
    "\n",
    "def main():\n",
    "#     Input from user\n",
    "    year = int(input(\"Enter a year to check if it is a leap year: \"))\n",
    "    \n",
    "    # Check if it is a leap year\n",
    "    if is_leap_year(year):\n",
    "        print(f\"{year} is a leap year.\")\n",
    "    else:\n",
    "        print(f\"{year} is not a leap year.\")\n",
    "\n",
    "if __name__ == \"__main__\":\n",
    "    main()\n",
    "\n"
   ]
  },
  {
   "cell_type": "code",
   "execution_count": 1,
   "id": "4a0d4db8",
   "metadata": {},
   "outputs": [
    {
     "name": "stdout",
     "output_type": "stream",
     "text": [
      "Enter a number to check it's prime or nor: 13\n",
      "13 is prime\n"
     ]
    }
   ],
   "source": [
    "# 4. Write a Python Program to Check Prime Number?\n",
    "\n",
    "def check_number_prime(number):\n",
    "    if number <=1:\n",
    "        return False\n",
    "    elif number <=3:\n",
    "        return True\n",
    "    elif number %2 ==0 or number%3==0:\n",
    "        return False\n",
    "    i = 5\n",
    "    while i*i <= number:\n",
    "        if number%i ==0 or number %(i+2)==0:\n",
    "            return False\n",
    "        i+=6\n",
    "    return True\n",
    "    \n",
    "        \n",
    "\n",
    "try:\n",
    "    number = int(input(\"Enter a number to check it's prime or nor: \"))\n",
    "    if check_number_prime(number):\n",
    "        print(f\"{number} is prime\")\n",
    "    else:\n",
    "        print(f\"{number} is not prime\")\n",
    "        \n",
    "except ValueError:\n",
    "    print(\"Please enter a valid integer!\")"
   ]
  },
  {
   "cell_type": "code",
   "execution_count": 3,
   "id": "d3e69fb3",
   "metadata": {},
   "outputs": [
    {
     "name": "stdout",
     "output_type": "stream",
     "text": [
      "Prime numbers between 1 and 10000 are:\n",
      "2\n",
      "3\n",
      "5\n",
      "7\n",
      "11\n",
      "13\n",
      "17\n",
      "19\n",
      "23\n",
      "29\n",
      "31\n",
      "37\n",
      "41\n",
      "43\n",
      "47\n",
      "53\n",
      "59\n",
      "61\n",
      "67\n",
      "71\n",
      "73\n",
      "79\n",
      "83\n",
      "89\n",
      "97\n"
     ]
    }
   ],
   "source": [
    "# 5. Write a Python Program to Print all Prime Numbers in an Interval of 1-10000?\n",
    "# change 100 to 10000 than it will be print all prime number between 1 to 10000\n",
    "\n",
    "\n",
    "print(\"Prime numbers between 1 and 10000 are:\")\n",
    "\n",
    "for num in range(1, 100):\n",
    "   # all prime numbers are greater than 1\n",
    "   if num > 1:\n",
    "       for i in range(2, num):\n",
    "           if (num % i) == 0:\n",
    "               break\n",
    "       else:\n",
    "           print(num)"
   ]
  },
  {
   "cell_type": "code",
   "execution_count": null,
   "id": "9ddd3450",
   "metadata": {},
   "outputs": [],
   "source": []
  }
 ],
 "metadata": {
  "kernelspec": {
   "display_name": "Python 3 (ipykernel)",
   "language": "python",
   "name": "python3"
  },
  "language_info": {
   "codemirror_mode": {
    "name": "ipython",
    "version": 3
   },
   "file_extension": ".py",
   "mimetype": "text/x-python",
   "name": "python",
   "nbconvert_exporter": "python",
   "pygments_lexer": "ipython3",
   "version": "3.11.7"
  }
 },
 "nbformat": 4,
 "nbformat_minor": 5
}
