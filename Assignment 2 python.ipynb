{
 "cells": [
  {
   "cell_type": "markdown",
   "id": "1d722142",
   "metadata": {},
   "source": [
    "# Assignment -2 "
   ]
  },
  {
   "cell_type": "code",
   "execution_count": 2,
   "id": "16c9ce09",
   "metadata": {},
   "outputs": [
    {
     "name": "stdout",
     "output_type": "stream",
     "text": [
      "Enter the kilometer1\n",
      "0.621371 kilometer.\n"
     ]
    }
   ],
   "source": [
    "# 1. Write a Python program to convert kilometers to miles?\n",
    "\n",
    "def convert_kilometer_to_miles(kilometer):\n",
    "    \n",
    "    miles = kilometer*0.621371\n",
    "    return miles\n",
    "\n",
    "user_input_kilometer = float(input(\"Enter the kilometer\"))\n",
    "\n",
    "km = convert_kilometer_to_miles(user_input_kilometer)\n",
    "print(f\"{km} kilometer.\")\n",
    "\n",
    "\n"
   ]
  },
  {
   "cell_type": "code",
   "execution_count": 3,
   "id": "3e6dc41b",
   "metadata": {},
   "outputs": [
    {
     "name": "stdout",
     "output_type": "stream",
     "text": [
      "Enter the celsius0\n",
      "Fahrenheit 32.0\n"
     ]
    }
   ],
   "source": [
    "# 2. Write a Python program to convert Celsius to Fahrenheit?\n",
    "\n",
    "def convert_celsius_to_fahrenheit(celsius):\n",
    "    fahrenheit = (celsius * 9/5 ) + 32\n",
    "    return fahrenheit\n",
    "\n",
    "\n",
    "\n",
    "user_input_fahrenheit = float(input(\"Enter the celsius\"))\n",
    "\n",
    "Fahrenheit_result = convert_celsius_to_fahrenheit(user_input_fahrenheit)\n",
    "print(\"Fahrenheit {}\".format(Fahrenheit_result))\n"
   ]
  },
  {
   "cell_type": "code",
   "execution_count": 2,
   "id": "4613df12",
   "metadata": {},
   "outputs": [
    {
     "name": "stdout",
     "output_type": "stream",
     "text": [
      "Enter month please: 12\n",
      "Enter year please: 2024\n",
      "   December 2024\n",
      "Mo Tu We Th Fr Sa Su\n",
      "                   1\n",
      " 2  3  4  5  6  7  8\n",
      " 9 10 11 12 13 14 15\n",
      "16 17 18 19 20 21 22\n",
      "23 24 25 26 27 28 29\n",
      "30 31\n",
      "\n"
     ]
    }
   ],
   "source": [
    "# 3. Write a Python program to display calendar?\n",
    "\n",
    "import calendar\n",
    "\n",
    "month = int(input(\"Enter month please: \"))\n",
    "year = int(input(\"Enter year please: \"))\n",
    "\n",
    "print(calendar.month(year,month))"
   ]
  },
  {
   "cell_type": "code",
   "execution_count": null,
   "id": "74f957a9",
   "metadata": {},
   "outputs": [],
   "source": [
    "# 4. Write a Python program to solve quadratic equation?\n",
    "\n",
    "# Solve the quadratic equation ax**2 + bx + c = 0\n",
    "\n",
    "\n",
    "import cmath\n",
    "\n",
    "a = 1\n",
    "b = 5\n",
    "c = 6\n",
    "\n",
    "d = (b**2) - (4*a*c)\n",
    "\n",
    "\n",
    "sol1 = (-b-cmath.sqrt(d))/(2*a)\n",
    "sol2 = (-b+cmath.sqrt(d))/(2*a)\n",
    "\n",
    "print('The solution are {0} and {1}'.format(sol1,sol2))\n"
   ]
  },
  {
   "cell_type": "code",
   "execution_count": 9,
   "id": "a1d3d66e",
   "metadata": {},
   "outputs": [
    {
     "name": "stdout",
     "output_type": "stream",
     "text": [
      "Enter first variable: 2\n",
      "Enter second variable: 3\n",
      "Before swapping:\n",
      "First variable is: 2\n",
      "Second variable is: 3\n",
      "After swapping:\n",
      "First variable is: 3\n",
      "Second variable is: 2\n"
     ]
    }
   ],
   "source": [
    "# 5. Write a Python program to swap two variables without temp variable?\n",
    "\n",
    "def swap_variables(first_input, second_input):\n",
    "    \n",
    "    first_input, second_input = second_input,first_input\n",
    "    \n",
    "    return first_input,second_input\n",
    "\n",
    "\n",
    "first_input = int(input(\"Enter first variable: \"))\n",
    "second_input = int(input(\"Enter second variable: \"))\n",
    "\n",
    "\n",
    "print(\"Before swapping:\")\n",
    "print(\"First variable is:\", first_input)\n",
    "print(\"Second variable is:\", second_input)\n",
    "\n",
    "\n",
    "first_input, second_input = swap_variables(first_input, second_input)\n",
    "\n",
    "\n",
    "print(\"After swapping:\")\n",
    "print(\"First variable is:\", first_input)\n",
    "print(\"Second variable is:\", second_input)"
   ]
  },
  {
   "cell_type": "code",
   "execution_count": null,
   "id": "3b2d8931",
   "metadata": {},
   "outputs": [],
   "source": []
  }
 ],
 "metadata": {
  "kernelspec": {
   "display_name": "Python 3 (ipykernel)",
   "language": "python",
   "name": "python3"
  },
  "language_info": {
   "codemirror_mode": {
    "name": "ipython",
    "version": 3
   },
   "file_extension": ".py",
   "mimetype": "text/x-python",
   "name": "python",
   "nbconvert_exporter": "python",
   "pygments_lexer": "ipython3",
   "version": "3.11.7"
  }
 },
 "nbformat": 4,
 "nbformat_minor": 5
}
