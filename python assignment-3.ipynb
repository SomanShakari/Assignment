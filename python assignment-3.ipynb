{
 "cells": [
  {
   "cell_type": "code",
   "execution_count": 1,
   "id": "ad33b72b",
   "metadata": {},
   "outputs": [],
   "source": [
    "# Python for loop Assignment-3"
   ]
  },
  {
   "cell_type": "code",
   "execution_count": 1,
   "id": "481d0c4e",
   "metadata": {},
   "outputs": [
    {
     "name": "stdout",
     "output_type": "stream",
     "text": [
      "RajPatel@gmail.com\n",
      "PriyaSharma@gmail.com\n",
      "AmitKumar@gmail.com\n",
      "NehaSingh@gmail.com\n"
     ]
    }
   ],
   "source": [
    "\n",
    "# Task1:\n",
    "# You have a nested list as below:\n",
    "# indian_employees = [[\"Raj\", \"Patel\"], [\"Priya\", \"Sharma\"],[\"Amit\", \"Kumar\"],[\"Neha\", \"Singh\"]]\n",
    "# your have to create an email address for each employee.\n",
    "# Email address should be there firstname+lastname@gmail.com\n",
    "\n",
    "# Expected output:\n",
    "# RajPatel@gmail.com\n",
    "# PriyaSharma@gmail.com\n",
    "# You have to create email addresses for each employee.\n",
    "\n",
    "indian_employees = [[\"Raj\",\"Patel\"],[\"Priya\",\"Sharma\"],[\"Amit\",\"Kumar\"],[\"Neha\",\"Singh\"]]\n",
    "for employees_name in indian_employees:\n",
    "    employees_mail = employees_name[0]+employees_name[1]+\"@gmail.com\"\n",
    "    print(employees_mail)\n",
    "    \n",
    " "
   ]
  }
 ],
 "metadata": {
  "kernelspec": {
   "display_name": "Python 3 (ipykernel)",
   "language": "python",
   "name": "python3"
  },
  "language_info": {
   "codemirror_mode": {
    "name": "ipython",
    "version": 3
   },
   "file_extension": ".py",
   "mimetype": "text/x-python",
   "name": "python",
   "nbconvert_exporter": "python",
   "pygments_lexer": "ipython3",
   "version": "3.11.7"
  }
 },
 "nbformat": 4,
 "nbformat_minor": 5
}
