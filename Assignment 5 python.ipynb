{
 "cells": [
  {
   "cell_type": "code",
   "execution_count": 1,
   "id": "3a8104cb",
   "metadata": {},
   "outputs": [],
   "source": [
    "# Assignment 5 python"
   ]
  },
  {
   "cell_type": "code",
   "execution_count": 9,
   "id": "58758a13",
   "metadata": {},
   "outputs": [
    {
     "name": "stdout",
     "output_type": "stream",
     "text": [
      "Enter number1: 2\n",
      "Enter number2: 4\n",
      "The LCM of these two numbers are : 4\n",
      "Enter multiple numbers and seprate them using space: 2 2 2 4\n",
      "Result for multiple numbers: 2\n"
     ]
    }
   ],
   "source": [
    "# 1. Write a Python Program to Find LCM?\n",
    "import math\n",
    "def lcm(number1,number2):\n",
    "    return abs(number1*number2) // math.gcd(number1,number2)\n",
    "\n",
    "def lcm_multiple(numbers):\n",
    "    current_lcm = numbers[0]\n",
    "    for num in numbers[1:]:\n",
    "        current_lcm = lcm(current_lcm,num)\n",
    "        return current_lcm\n",
    "\n",
    "if __name__ == \"__main__\":\n",
    "    \n",
    "    number1 = int(input(\"Enter number1: \"))\n",
    "    number2 = int(input(\"Enter number2: \"))\n",
    "    \n",
    "    print(f\"The LCM of these two numbers are : {lcm(number1,number2)}\")\n",
    "    \n",
    "    \n",
    "    numbers = list(map(int,input(\"Enter multiple numbers and seprate them using space: \").split()))\n",
    "    print(f\"Result for multiple numbers: {lcm_multiple(numbers)}\")\n"
   ]
  },
  {
   "cell_type": "code",
   "execution_count": 14,
   "id": "4e07d07d",
   "metadata": {},
   "outputs": [
    {
     "name": "stdout",
     "output_type": "stream",
     "text": [
      "Enter first number please: 4\n",
      "Enter second number please: 5\n",
      "The HCF of this two numbers are: 1\n",
      "Enter multiple number and seprate them using space:4 5\n",
      "The result of HCF for multiple numbers are: 1\n"
     ]
    }
   ],
   "source": [
    "# 2. Write a Python Program to Find HCF?\n",
    "from  functools import reduce\n",
    "\n",
    "def multiple_hcf(multiple_numbers):\n",
    "    return reduce(hcf,multiple_numbers)\n",
    "    \n",
    "\n",
    "def hcf(first_input,second_input):\n",
    "    return math.gcd(first_input,second_input)\n",
    "    \n",
    "\n",
    "if __name__ == \"__main__\":\n",
    "    first_input = int(input(\"Enter first number please: \"))\n",
    "    second_input = int(input(\"Enter second number please: \"))\n",
    "    result = print(f\"The HCF of this two numbers are: {hcf(first_input,second_input)}\")\n",
    "    \n",
    "    \n",
    "    multiple_numbers = list(map(int,input(\"Enter multiple number and seprate them using space:\").split()))\n",
    "    print(f\"The result of HCF for multiple numbers are: {multiple_hcf(multiple_numbers)}\")"
   ]
  },
  {
   "cell_type": "code",
   "execution_count": 3,
   "id": "63127caf",
   "metadata": {},
   "outputs": [
    {
     "name": "stdout",
     "output_type": "stream",
     "text": [
      "Enter a decimal number please: 2\n",
      "Decimal number: 2\n",
      "Binary Number: 0b10\n",
      "Octal Number: 0o2\n",
      "Hexadecimal Number: 0x2\n"
     ]
    }
   ],
   "source": [
    "# 3. Write a Python Program to Convert Decimal to Binary, Octal and Hexadecimal?\n",
    "\n",
    "def convert_decimal(decimal_number):\n",
    "    \n",
    "    binary_number = bin(decimal_number)\n",
    "    octal_number = oct(decimal_number)\n",
    "    hexadecimal_number = hex(decimal_number)\n",
    "    \n",
    "    return binary_number,octal_number,hexadecimal_number\n",
    "\n",
    "\n",
    "if __name__ == \"__main__\":\n",
    "    \n",
    "    decimal_number = int(input(\"Enter a decimal number please: \"))\n",
    "     \n",
    "    \n",
    "    binary,octal,hexadecimal = convert_decimal(decimal_number)\n",
    "    print(f\"Decimal number: {decimal_number}\")\n",
    "    print(f\"Binary Number: {binary}\")\n",
    "    print(f\"Octal Number: {octal}\")\n",
    "    print(f\"Hexadecimal Number: {hexadecimal}\")\n",
    "    \n",
    "    \n",
    "    \n",
    "    \n"
   ]
  },
  {
   "cell_type": "code",
   "execution_count": 6,
   "id": "795b4876",
   "metadata": {},
   "outputs": [
    {
     "name": "stdout",
     "output_type": "stream",
     "text": [
      "Enter a character to fine the ASCII value of a character: 1\n",
      "This ASCII (American standard code for information interchange) value is: 49\n"
     ]
    }
   ],
   "source": [
    "# 4. Write a Python Program To Find ASCII value of a character?\n",
    "\n",
    "def find_ascii_value(character):\n",
    "    if len(character) != 1:\n",
    "        return \"The input must be a single character\"\n",
    "    \n",
    "    character_value = ord(character)\n",
    "    return character_value\n",
    "\n",
    "character = input(\"Enter a character to fine the ASCII value of a character: \")\n",
    "result = find_ascii_value(character)\n",
    "print(f\"This ASCII (American standard code for information interchange) value is: {result}\")\n"
   ]
  },
  {
   "cell_type": "code",
   "execution_count": 26,
   "id": "5c9d2049",
   "metadata": {},
   "outputs": [
    {
     "name": "stdout",
     "output_type": "stream",
     "text": [
      "Simple calculator\n",
      "Select operation\n",
      "1:Addition\n",
      "2:Subtraction\n",
      "3:Multiplication\n",
      "4:Division\n",
      "Enter choice (1/2/3/4): 1\n",
      "Invalid choice ! please enter a valid operation.\n"
     ]
    }
   ],
   "source": [
    "# 5. Write a Python Program to Make a Simple Calculator with 4 basic mathematical operations?\n",
    "\n",
    "def Addittion_calculate(number1,number2):\n",
    "    return number1+number2\n",
    "\n",
    "def Subtraction_calculate(number1,number2):\n",
    "    return number1-number2\n",
    "\n",
    "def Multiplication_calculate(number1,number2):\n",
    "    return number1*number2\n",
    "\n",
    "def Division_calculate(number1,number2):\n",
    "    if number2 != 0:\n",
    "        return number1/number2\n",
    "    else:\n",
    "        return \"Error ! divid by zero is not allowed\"\n",
    "\n",
    "def main():\n",
    "    \n",
    "    print(\"Simple calculator\")\n",
    "    print(\"Select operation\")\n",
    "    print(\"1:Addition\")\n",
    "    print(\"2:Subtraction\")\n",
    "    print(\"3:Multiplication\")\n",
    "    print(\"4:Division\")\n",
    "    choice = int(input(\"Enter choice (1/2/3/4): \"))\n",
    "    if choice in ['1', '2', '3', '4']:\n",
    "#     if choice in [\"1\",\"2\",\"3\",\"4\"]:\n",
    "        print(\"soman\", choice)\n",
    "        try:\n",
    "            number1 = float(input(\"Enter a First Number: \"))\n",
    "            number2 = float(input(\"Enter a Second Number: \"))\n",
    "            if choice == \"1\":\n",
    "                result = Addittion_calculate(number1,number2)\n",
    "                print(f\"the jsdc {result}\")\n",
    "            elif choice == \"2\":\n",
    "                print(f\"{Subtraction_calculate(number1,number2)}\")\n",
    "            elif choice == \"3\":\n",
    "                print(f\"{Multiplication_calculate(number1,number2)}\")\n",
    "            elif choice == \"4\":\n",
    "                print(f\"{Division_calculate(number1,number2)}\")\n",
    "        \n",
    "        except ValueError:\n",
    "        \n",
    "            print(\"Invalid input! Please enter a numaric values.\")\n",
    "    else:\n",
    "    \n",
    "        print(\"Invalid choice ! please enter a valid operation.\")\n",
    "\n",
    "\n",
    "\n",
    "\n",
    "if __name__ == \"__main__\":\n",
    "    main()\n",
    "    "
   ]
  },
  {
   "cell_type": "code",
   "execution_count": 28,
   "id": "c7596852",
   "metadata": {},
   "outputs": [
    {
     "name": "stdout",
     "output_type": "stream",
     "text": [
      "Simple Calculator\n",
      "Select operation:\n",
      "1. Add\n",
      "2. Subtract\n",
      "3. Multiply\n",
      "4. Divide\n",
      "Enter choice (1/2/3/4): 2\n",
      "Enter the first number: 3\n",
      "Enter the second number: 4\n",
      "The result is: -1.0\n"
     ]
    }
   ],
   "source": [
    "def add(number1, number2):\n",
    "    return number1 + number2\n",
    "\n",
    "def subtract(number1, number2):\n",
    "    return number1 - number2\n",
    "\n",
    "def multiply(number1, number2):\n",
    "    return number1 * number2\n",
    "\n",
    "def divide(number1, number2):\n",
    "    if y != 0:\n",
    "        return number1 / number2\n",
    "    else:\n",
    "        return \"Error: Division by zero is not allowed.\"\n",
    "\n",
    "def main():\n",
    "    print(\"Simple Calculator\")\n",
    "    print(\"Select operation:\")\n",
    "    print(\"1. Add\")\n",
    "    print(\"2. Subtract\")\n",
    "    print(\"3. Multiply\")\n",
    "    print(\"4. Divide\")\n",
    "\n",
    "    # Get the user's choice\n",
    "    choice = input(\"Enter choice (1/2/3/4): \")\n",
    "\n",
    "    # Check if the choice is valid\n",
    "    if choice in ['1', '2', '3', '4']:\n",
    "        # Get the numbers from the user\n",
    "        try:\n",
    "            num1 = float(input(\"Enter the first number: \"))\n",
    "            num2 = float(input(\"Enter the second number: \"))\n",
    "\n",
    "            # Perform the chosen operation\n",
    "            if choice == '1':\n",
    "                print(f\"The result is: {add(num1, num2)}\")\n",
    "            elif choice == '2':\n",
    "                print(f\"The result is: {subtract(num1, num2)}\")\n",
    "            elif choice == '3':\n",
    "                print(f\"The result is: {multiply(num1, num2)}\")\n",
    "            elif choice == '4':\n",
    "                print(f\"The result is: {divide(num1, num2)}\")\n",
    "        except ValueError:\n",
    "            print(\"Invalid input. Please enter numeric values.\")\n",
    "    else:\n",
    "        print(\"Invalid choice. Please select a valid operation.\")\n",
    "\n",
    "if __name__ == \"__main__\":\n",
    "    main()\n"
   ]
  },
  {
   "cell_type": "code",
   "execution_count": null,
   "id": "f92fadcc",
   "metadata": {},
   "outputs": [],
   "source": []
  }
 ],
 "metadata": {
  "kernelspec": {
   "display_name": "Python 3 (ipykernel)",
   "language": "python",
   "name": "python3"
  },
  "language_info": {
   "codemirror_mode": {
    "name": "ipython",
    "version": 3
   },
   "file_extension": ".py",
   "mimetype": "text/x-python",
   "name": "python",
   "nbconvert_exporter": "python",
   "pygments_lexer": "ipython3",
   "version": "3.11.7"
  }
 },
 "nbformat": 4,
 "nbformat_minor": 5
}
