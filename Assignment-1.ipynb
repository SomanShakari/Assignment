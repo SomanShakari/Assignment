{
 "cells": [
  {
   "cell_type": "code",
   "execution_count": null,
   "id": "ef29c28d",
   "metadata": {},
   "outputs": [],
   "source": [
    "#1.Write a Python program to print \"Hello Pyhton\"?"
   ]
  },
  {
   "cell_type": "code",
   "execution_count": null,
   "id": "f910e5c3",
   "metadata": {},
   "outputs": [],
   "source": [
    "print(\"Hello Python\")"
   ]
  },
  {
   "cell_type": "code",
   "execution_count": null,
   "id": "d76fbc5a",
   "metadata": {},
   "outputs": [],
   "source": [
    "#2.Write a python program to do arithmetical operations addition and division?"
   ]
  },
  {
   "cell_type": "code",
   "execution_count": null,
   "id": "49597af6",
   "metadata": {},
   "outputs": [],
   "source": [
    "operation = input(\"Choose the operation you want to perform (addition, division):  \")\n",
    "\n",
    "number1 = int(input(\"Enter first number: \"))\n",
    "number2 = int(input(\"Enter second number: \"))\n",
    "result = 0\n",
    "\n",
    "\n",
    "if operation ==  \"addition\":\n",
    "    result = float(number1)+(number2)\n",
    "    print(\"The answer is: \",result)\n",
    "elif operation == \"division\" :\n",
    "    result = float(number1)/(number2)\n",
    "    print(\"The answer is: \",result)\n",
    "else:\n",
    "     print(\"please enter the operation name properly\")"
   ]
  },
  {
   "cell_type": "code",
   "execution_count": null,
   "id": "dc27ced0",
   "metadata": {},
   "outputs": [],
   "source": [
    "#3.Write a python program to find the area of a traingle?"
   ]
  },
  {
   "cell_type": "code",
   "execution_count": null,
   "id": "8a6901a7",
   "metadata": {},
   "outputs": [],
   "source": [
    "first_side = float(input(\"enter first side: \"))\n",
    "second_side = float(input(\"enter second side: \"))\n",
    "third_side = float(input(\"enter third side: \"))\n",
    "\n",
    "semi_perimeter = (first_side + second_side + third_side ) /2\n",
    "area_traingle = (semi_perimeter*(semi_perimeter - first_side)*(semi_perimeter - second_side)*(semi_perimeter - first_side))**0.5\n",
    "print(\"The area of traingle is: \",area_traingle)"
   ]
  },
  {
   "cell_type": "code",
   "execution_count": null,
   "id": "7b4cb687",
   "metadata": {},
   "outputs": [],
   "source": [
    "#4.Write the python program to swap two variables?"
   ]
  },
  {
   "cell_type": "code",
   "execution_count": 2,
   "id": "79a7466f",
   "metadata": {},
   "outputs": [
    {
     "name": "stdout",
     "output_type": "stream",
     "text": [
      "before swaping: \n",
      "value of variable 1 :  2\n",
      "value of variable 2 :  3\n",
      "after swaping: \n",
      "value of variable 1 :  3\n",
      "value of variable 2 :  2\n"
     ]
    }
   ],
   "source": [
    "variable1 = 2\n",
    "variable2 = 3\n",
    "temporary_variable = 0\n",
    "\n",
    "print(\"before swaping: \")\n",
    "print(\"value of variable 1 : \",variable1)\n",
    "print(\"value of variable 2 : \",variable2)\n",
    "\n",
    "temporary_variable = variable1\n",
    "variable1 = variable2\n",
    "variable2 = temporary_variable\n",
    "\n",
    "print(\"after swaping: \")\n",
    "print(\"value of variable 1 : \",variable1)\n",
    "print(\"value of variable 2 : \",variable2)"
   ]
  },
  {
   "cell_type": "code",
   "execution_count": null,
   "id": "2fd62730",
   "metadata": {},
   "outputs": [],
   "source": [
    "#5.Write a python program to generate a random number?"
   ]
  },
  {
   "cell_type": "code",
   "execution_count": 4,
   "id": "2609e392",
   "metadata": {},
   "outputs": [
    {
     "name": "stdout",
     "output_type": "stream",
     "text": [
      "1\n"
     ]
    }
   ],
   "source": [
    "import random\n",
    "\n",
    "print(random.randint(0,9))"
   ]
  },
  {
   "cell_type": "code",
   "execution_count": null,
   "id": "6c4c1404",
   "metadata": {},
   "outputs": [],
   "source": []
  }
 ],
 "metadata": {
  "kernelspec": {
   "display_name": "Python 3 (ipykernel)",
   "language": "python",
   "name": "python3"
  },
  "language_info": {
   "codemirror_mode": {
    "name": "ipython",
    "version": 3
   },
   "file_extension": ".py",
   "mimetype": "text/x-python",
   "name": "python",
   "nbconvert_exporter": "python",
   "pygments_lexer": "ipython3",
   "version": "3.11.7"
  }
 },
 "nbformat": 4,
 "nbformat_minor": 5
}
