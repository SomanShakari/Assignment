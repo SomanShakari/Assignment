{
 "cells": [
  {
   "cell_type": "code",
   "execution_count": null,
   "id": "44e8aebf",
   "metadata": {},
   "outputs": [],
   "source": [
    "# Assignment 6 python"
   ]
  },
  {
   "cell_type": "code",
   "execution_count": 3,
   "id": "df99148a",
   "metadata": {},
   "outputs": [
    {
     "name": "stdout",
     "output_type": "stream",
     "text": [
      "Please enter number 4\n",
      "0\n",
      "1\n",
      "1\n",
      "2\n"
     ]
    }
   ],
   "source": [
    "# 1. Write a Python Program to Display Fibonacci Sequence Using Recursion?\n",
    "\n",
    "def fibonacci_function(n):\n",
    "    if n <=1:\n",
    "        return n\n",
    "    else:\n",
    "        return fibonacci_function(n-1)+fibonacci_function(n-2)\n",
    "\n",
    "user_specify_range = int(input(\"Please enter number \"))\n",
    "if user_specify_range < 1:\n",
    "    print(\"Negative numbers are not accepted Please provide positive integers\")\n",
    "else:\n",
    "    for i in range(user_specify_range):\n",
    "        print(fibonacci_function(i))\n"
   ]
  },
  {
   "cell_type": "code",
   "execution_count": 8,
   "id": "bb067e47",
   "metadata": {},
   "outputs": [
    {
     "name": "stdout",
     "output_type": "stream",
     "text": [
      "Please enter a number to find the factorial: 7\n",
      "the factorial of 7 id  5040\n"
     ]
    }
   ],
   "source": [
    "# 2. Write a Python Program to Find Factorial of Number Using Recursion?\n",
    "\n",
    "def factorial_result(n):\n",
    "    if n <1:\n",
    "        return 1\n",
    "    else:\n",
    "        return n*factorial_result(n-1)\n",
    "        \n",
    "number = int(input(\"Please enter a number to find the factorial: \"))\n",
    "\n",
    "if number <0:\n",
    "    print(\"Sorry the factorial is not exist for negative numbers\")\n",
    "elif number ==0:\n",
    "    print(\"The factorial of zero is 1\")\n",
    "else:\n",
    "    print(f\"the factorial of {number} id \",factorial_result(number))"
   ]
  },
  {
   "cell_type": "code",
   "execution_count": 2,
   "id": "79f3f411",
   "metadata": {},
   "outputs": [
    {
     "name": "stdout",
     "output_type": "stream",
     "text": [
      "enter your heigth in cm: 1.55\n",
      "enter your weight in kg: 55\n",
      "your bmi is 22.89\n",
      "You have normal weight.\n"
     ]
    }
   ],
   "source": [
    "# 3. Write a Python Program to calculate your Body Mass Index?\n",
    "\n",
    "def body_mass_index(height,weight):\n",
    "    bmi = weight/height**2\n",
    "    return bmi\n",
    "\n",
    "def main():\n",
    "    height = float(input(\"enter your heigth in cm: \"))\n",
    "    weight = float(input(\"enter your weight in kg: \"))\n",
    "    result = body_mass_index(height,weight)\n",
    "    \n",
    "    \n",
    "    print(f\"your bmi is {result:.2f}\")\n",
    "    \n",
    "    if result <18.5:\n",
    "        print(\"You are underweight.\")\n",
    "    elif 18.5 <= result <= 24.9:\n",
    "        print(\"You have normal weight.\")\n",
    "    elif 25 <= result <= 29.9:\n",
    "        print(\"You are overweight.\")\n",
    "    else:\n",
    "        print(\"you are obese\")\n",
    "    \n",
    "if __name__ == \"__main__\":\n",
    "    main()"
   ]
  },
  {
   "cell_type": "code",
   "execution_count": 8,
   "id": "cbb3760b",
   "metadata": {},
   "outputs": [
    {
     "name": "stdout",
     "output_type": "stream",
     "text": [
      "Please enter positive number: 1\n",
      "the natural logarithm of 1.0 is 0.0000\n"
     ]
    }
   ],
   "source": [
    "# 4. Write a Python Program to calculate the natural logarithm of any number?\n",
    "\n",
    "import math\n",
    "\n",
    "def calculate_natural_logarithm(number):\n",
    "    if number <=0:\n",
    "        return \"The natural logarithm is only for positive number\"\n",
    "    \n",
    "    return math.log(number)\n",
    "\n",
    "def main():\n",
    "    try:\n",
    "        number = float(input(\"Please enter positive number: \"))\n",
    "        result = calculate_natural_logarithm(number)\n",
    "        if isinstance(result,str):\n",
    "            print(result)\n",
    "        else:\n",
    "            print(f\"the natural logarithm of {number} is {result:.4f}\")\n",
    "    except ValueError:\n",
    "        print(\"Invalid input !, Please enter valid number\")\n",
    "\n",
    "if __name__ == '__main__':\n",
    "    main()"
   ]
  },
  {
   "cell_type": "code",
   "execution_count": 15,
   "id": "9061035f",
   "metadata": {},
   "outputs": [
    {
     "name": "stdout",
     "output_type": "stream",
     "text": [
      "enter positive number: 4\n",
      "cube sum of first 4 natural number is 100\n"
     ]
    }
   ],
   "source": [
    "# 5. Write a Python Program for cube sum of first n natural numbers?\n",
    "def natural_number(number):\n",
    "        sum_m = number*(number+1)//2\n",
    "        return sum_m**2\n",
    "\n",
    "\n",
    "def main():\n",
    "    try:\n",
    "        number = int(input(\"enter positive number: \"))\n",
    "        \n",
    "        if number <=0:\n",
    "            print(\"Please enter positive number: \")\n",
    "            return\n",
    "        \n",
    "        result = natural_number(number)\n",
    "        \n",
    "        print(f\"cube sum of first {number} natural number is {result}\")\n",
    "        \n",
    "    except ValueError:\n",
    "        print(\"Please enter valid number \")\n",
    "if __name__==\"__main__\":\n",
    "    main()"
   ]
  },
  {
   "cell_type": "code",
   "execution_count": null,
   "id": "e3a2cb62",
   "metadata": {},
   "outputs": [],
   "source": []
  }
 ],
 "metadata": {
  "kernelspec": {
   "display_name": "Python 3 (ipykernel)",
   "language": "python",
   "name": "python3"
  },
  "language_info": {
   "codemirror_mode": {
    "name": "ipython",
    "version": 3
   },
   "file_extension": ".py",
   "mimetype": "text/x-python",
   "name": "python",
   "nbconvert_exporter": "python",
   "pygments_lexer": "ipython3",
   "version": "3.11.7"
  }
 },
 "nbformat": 4,
 "nbformat_minor": 5
}
