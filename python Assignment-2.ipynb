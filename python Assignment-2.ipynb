{
 "cells": [
  {
   "cell_type": "code",
   "execution_count": null,
   "id": "3aa570fe",
   "metadata": {},
   "outputs": [],
   "source": [
    "# Python Assignment-2"
   ]
  },
  {
   "cell_type": "code",
   "execution_count": 2,
   "id": "2ecf86fc",
   "metadata": {},
   "outputs": [
    {
     "name": "stdout",
     "output_type": "stream",
     "text": [
      "soman shakari\n"
     ]
    }
   ],
   "source": [
    "# 1. How do you concatenate two strings in Python?\n",
    "string1 = \"soman\"\n",
    "string2 = \"shakari\"\n",
    "concatenation_of_Strings = string1 +\" \"+ string2\n",
    "print(concatenation_of_Strings)"
   ]
  },
  {
   "cell_type": "code",
   "execution_count": 15,
   "id": "2a269093",
   "metadata": {},
   "outputs": [
    {
     "name": "stdout",
     "output_type": "stream",
     "text": [
      "concatenate example\n",
      "example of join method\n"
     ]
    }
   ],
   "source": [
    "# 2. What is the difference between the + operator and the join() method for\n",
    "# concatenating strings?\n",
    "\n",
    "# the main difference between + operator and join() method is that with + operator we can concatenates two strings but with \n",
    "# join()  method we append sequence of the strings.\n",
    "\n",
    "string1 = \"concatenate\"\n",
    "string2 = \"example\"\n",
    "concatenates_strings = string1 +\" \"+ string2\n",
    "print(concatenates_strings)\n",
    "\n",
    "list_of_string = [\"example\",\"of\",\"join\",\"method\"]\n",
    "joins_string = \" \".join(list_of_string)\n",
    "print(joins_string)"
   ]
  },
  {
   "cell_type": "code",
   "execution_count": 16,
   "id": "9b47ca3a",
   "metadata": {
    "scrolled": true
   },
   "outputs": [
    {
     "name": "stdout",
     "output_type": "stream",
     "text": [
      "s\n",
      "a\n",
      "c\n",
      "c\n",
      "e\n",
      "s\n",
      "s\n",
      " \n"
     ]
    }
   ],
   "source": [
    "# 3. How do you access individual characters in a string?\n",
    "# we can access individual characters in a string through indexing \n",
    "\n",
    "string1 = \"soman shakari\"\n",
    "print(string1[0])\n",
    "\n",
    "# but with the help of for loop we can access all the characters of the string\n",
    "\n",
    "string2 = \"access \"\n",
    "for character in string2:\n",
    "    print(character)"
   ]
  },
  {
   "cell_type": "code",
   "execution_count": 17,
   "id": "99f7e699",
   "metadata": {},
   "outputs": [
    {
     "name": "stdout",
     "output_type": "stream",
     "text": [
      "16\n"
     ]
    }
   ],
   "source": [
    "# 4. What method is used to find the length of a string in Python?\n",
    "string1 = \"lenght of string\"\n",
    "print(len(string1))"
   ]
  },
  {
   "cell_type": "code",
   "execution_count": 22,
   "id": "e17bf09e",
   "metadata": {
    "scrolled": true
   },
   "outputs": [
    {
     "name": "stdout",
     "output_type": "stream",
     "text": [
      "before applying uppercase method->make me uppercase\n",
      "after applying uppercase method->MAKE ME UPPERCASE\n"
     ]
    }
   ],
   "source": [
    "# 5. How can you convert a string to uppercase in Python?\n",
    "\n",
    "string1 = \"make me uppercase\"\n",
    "print(\"before applying uppercase method->\" +string1 + \"\\n\" +\"after applying uppercase method->\" +string1.upper())"
   ]
  },
  {
   "cell_type": "code",
   "execution_count": 24,
   "id": "dc2993c4",
   "metadata": {
    "scrolled": false
   },
   "outputs": [
    {
     "name": "stdout",
     "output_type": "stream",
     "text": [
      "before applying lowercase method->MAKE ME  LOWERCASE\n",
      "after applying lowercase method->make me  lowercase\n"
     ]
    }
   ],
   "source": [
    "# 6. How can you convert a string to lowercase in Python?\n",
    "\n",
    "string1 = \"MAKE ME  LOWERCASE\"\n",
    "print(\"before applying lowercase method->\" +string1 + \"\\n\" +\"after applying lowercase method->\" +string1.lower())"
   ]
  },
  {
   "cell_type": "code",
   "execution_count": 26,
   "id": "81481ff4",
   "metadata": {},
   "outputs": [
    {
     "name": "stdout",
     "output_type": "stream",
     "text": [
      "I like red color\n"
     ]
    }
   ],
   "source": [
    "# 7. What method is used to replace substrings within a string?\n",
    "\n",
    "replace_String = \"I like blue color\"\n",
    "print(replace_String.replace(\"blue\",\"red\"))"
   ]
  },
  {
   "cell_type": "code",
   "execution_count": 31,
   "id": "63526285",
   "metadata": {},
   "outputs": [
    {
     "name": "stdout",
     "output_type": "stream",
     "text": [
      "['Python', 'Java', 'Ruby', 'Php']\n"
     ]
    }
   ],
   "source": [
    "# 8. How can you split a string into a list of substrings based on a delimiter?\n",
    "\n",
    "string1 = \"Python Java Ruby Php\"\n",
    "print(string1.split())"
   ]
  },
  {
   "cell_type": "code",
   "execution_count": 36,
   "id": "787385c0",
   "metadata": {},
   "outputs": [
    {
     "name": "stdout",
     "output_type": "stream",
     "text": [
      "True\n",
      "False\n"
     ]
    }
   ],
   "source": [
    "# 9. How do you check if a string starts with a particular substring?\n",
    "\n",
    "string_starts = \"this paragraph start with words\"\n",
    "print(string_starts.startswith(\"this\"))\n",
    "print(string_starts.startswith(\"words\"))"
   ]
  },
  {
   "cell_type": "code",
   "execution_count": 38,
   "id": "50106075",
   "metadata": {},
   "outputs": [
    {
     "name": "stdout",
     "output_type": "stream",
     "text": [
      "False\n",
      "True\n"
     ]
    }
   ],
   "source": [
    "# 10. How do you check if a string ends with a particular substring?\n",
    "\n",
    "string_starts = \"this paragraph ends with words\"\n",
    "print(string_starts.endswith(\"this\"))\n",
    "print(string_starts.endswith(\"words\"))"
   ]
  },
  {
   "cell_type": "code",
   "execution_count": 39,
   "id": "0df0fdb5",
   "metadata": {},
   "outputs": [
    {
     "name": "stdout",
     "output_type": "stream",
     "text": [
      "my123pass\n"
     ]
    }
   ],
   "source": [
    "# 11. How can you remove leading and trailing whitespace from a string?\n",
    "\n",
    "password = \" my123pass \"\n",
    "print(password.strip())"
   ]
  },
  {
   "cell_type": "code",
   "execution_count": 1,
   "id": "7b8156ed",
   "metadata": {},
   "outputs": [
    {
     "name": "stdout",
     "output_type": "stream",
     "text": [
      "22\n"
     ]
    }
   ],
   "source": [
    "# 12. What method is used to find the index of the first occurrence of a substring within a string?\n",
    "\n",
    "string = \"find the substring in this stirng\"\n",
    "sub_string = \"this\"\n",
    "print(string.find(sub_string))"
   ]
  },
  {
   "cell_type": "code",
   "execution_count": 4,
   "id": "d465dc75",
   "metadata": {},
   "outputs": [
    {
     "name": "stdout",
     "output_type": "stream",
     "text": [
      "Hi, my name is soman shakari. I am learning pyhton program\n",
      "5\n"
     ]
    }
   ],
   "source": [
    "# 13.How can you count the number of occurrences of a substring within a string?\n",
    "\n",
    "string = \"Hi, my name is soman shakari. I am learning pyhton program\"\n",
    "print(string)\n",
    "print(string.count(\"m\"))"
   ]
  },
  {
   "cell_type": "code",
   "execution_count": 5,
   "id": "509b9a10",
   "metadata": {
    "scrolled": true
   },
   "outputs": [
    {
     "name": "stdout",
     "output_type": "stream",
     "text": [
      "False\n",
      "True\n"
     ]
    }
   ],
   "source": [
    "# 14. How do you check if a string contains only alphabetic characters?\n",
    "\n",
    "string1 = \"when i am printing this it give me false\"\n",
    "stirng2 = \"alphabet\"\n",
    "print(string1.isalpha())\n",
    "print(stirng2.isalpha())\n",
    "\n",
    "#both have only alphabets but it giving false to string1"
   ]
  },
  {
   "cell_type": "code",
   "execution_count": 7,
   "id": "095d84e1",
   "metadata": {},
   "outputs": [
    {
     "name": "stdout",
     "output_type": "stream",
     "text": [
      "True\n"
     ]
    }
   ],
   "source": [
    "# 15. How do you check if a string contains only numeric characters?\n",
    "\n",
    "string_number = \"12345678\"\n",
    "print(string_number.isnumeric())"
   ]
  },
  {
   "cell_type": "code",
   "execution_count": 6,
   "id": "17a9582e",
   "metadata": {},
   "outputs": [
    {
     "name": "stdout",
     "output_type": "stream",
     "text": [
      "please enter your input madam\n",
      "madam\n",
      "madam\n",
      "Yes, it is palindrome\n"
     ]
    }
   ],
   "source": [
    "# 16. How can you check if a string is a palindrome?\n",
    "\n",
    "\n",
    "def is_palindrome(user_input):\n",
    "    reverse = \"\".join(reversed(user_input))\n",
    "    \n",
    "    if (user_input == reverse):\n",
    "        return True\n",
    "    return False\n",
    "    \n",
    "user_input = input(\"please enter your input \")\n",
    "result = is_palindrome(user_input)\n",
    "\n",
    "if (result):\n",
    "    print(\"Yes, it is palindrome\")\n",
    "else:\n",
    "    print(\"No, it is not palindrome\")\n",
    "     "
   ]
  },
  {
   "cell_type": "code",
   "execution_count": 17,
   "id": "bfae8e6f",
   "metadata": {},
   "outputs": [
    {
     "name": "stdout",
     "output_type": "stream",
     "text": [
      "string:  somanshakari\n",
      "reversed:  irakahsnamos\n",
      "string:  python program\n",
      "reversed:  margorp nohtyp\n"
     ]
    }
   ],
   "source": [
    "# 17. How can you reverse a string in Python?\n",
    "\n",
    "original_string = \"somanshakari\"\n",
    "reversed_string = \"\".join(reversed(original_string))\n",
    "print(\"string: \",original_string)\n",
    "print(\"reversed: \",reversed_string)\n",
    "\n",
    "def reversed_function(x):\n",
    "    return x[::-1]\n",
    "\n",
    "fun_string = \"python program\"\n",
    "result_function = reversed_function(fun_string)\n",
    "print(\"string: \", fun_string)\n",
    "print(\"reversed: \",result_function)\n"
   ]
  },
  {
   "cell_type": "code",
   "execution_count": 21,
   "id": "8b2d54d7",
   "metadata": {},
   "outputs": [
    {
     "name": "stdout",
     "output_type": "stream",
     "text": [
      "my  first name is soman and my surname is shakari. \n"
     ]
    }
   ],
   "source": [
    "# 18. How do you format a string with placeholders for variable values?\n",
    "\n",
    "print(\"my  first name is {fisrt_name} and my surname is {surname}. \".format(fisrt_name=\"soman\",surname=\"shakari\"))\n"
   ]
  },
  {
   "cell_type": "code",
   "execution_count": 29,
   "id": "b3b2aa45",
   "metadata": {},
   "outputs": [
    {
     "name": "stdout",
     "output_type": "stream",
     "text": [
      "i want to be smart programmer\n",
      "i\n",
      " want to be smart programme\n",
      "want\n"
     ]
    }
   ],
   "source": [
    "# 19. How do you access a substring of a string using slicing?\n",
    "\n",
    "string_slicing = \"i want to be smart programmer\"\n",
    "print(string_slicing[:])\n",
    "print(string_slicing[0:1])\n",
    "print(string_slicing[1:-1])\n",
    "print(string_slicing[2:-23])"
   ]
  },
  {
   "cell_type": "markdown",
   "id": "b971c624",
   "metadata": {},
   "source": [
    "##### "
   ]
  },
  {
   "cell_type": "code",
   "execution_count": 39,
   "id": "2abf41ee",
   "metadata": {},
   "outputs": [
    {
     "name": "stdout",
     "output_type": "stream",
     "text": [
      "@soman@ @shakari2024@\n",
      "soman@ @shakari2024@\n",
      "soman shakari2024\n",
      "!soman! !shakari2024!\n",
      "!soman@ @shakari2024@\n"
     ]
    }
   ],
   "source": [
    "# 20. How can you remove specific characters from a string in Python?\n",
    "\n",
    "specific_string = \"@soman@ @shakari2024@\"\n",
    "print(specific_string)\n",
    "print(specific_string.replace(\"@\",\"\",1))\n",
    "print(specific_string.replace(\"@\",\"\"))\n",
    "print(specific_string.replace(\"@\",\"!\"))\n",
    "print(specific_string.replace(\"@\",\"!\",1))"
   ]
  },
  {
   "cell_type": "code",
   "execution_count": null,
   "id": "5a96e225",
   "metadata": {},
   "outputs": [],
   "source": []
  }
 ],
 "metadata": {
  "kernelspec": {
   "display_name": "Python 3 (ipykernel)",
   "language": "python",
   "name": "python3"
  },
  "language_info": {
   "codemirror_mode": {
    "name": "ipython",
    "version": 3
   },
   "file_extension": ".py",
   "mimetype": "text/x-python",
   "name": "python",
   "nbconvert_exporter": "python",
   "pygments_lexer": "ipython3",
   "version": "3.11.7"
  }
 },
 "nbformat": 4,
 "nbformat_minor": 5
}
