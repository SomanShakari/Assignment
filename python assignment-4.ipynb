{
 "cells": [
  {
   "cell_type": "code",
   "execution_count": null,
   "id": "f80f3117",
   "metadata": {},
   "outputs": [],
   "source": [
    "# python While loop Assignment-4"
   ]
  },
  {
   "cell_type": "code",
   "execution_count": null,
   "id": "3e73b7f8",
   "metadata": {},
   "outputs": [
    {
     "name": "stdout",
     "output_type": "stream",
     "text": [
      "guess the number between 1 to 100: 5\n",
      "the number you guess is low than the random number, try again\n",
      "guess the number between 1 to 100: 7\n",
      "the number you guess is low than the random number, try again\n",
      "guess the number between 1 to 100: 8\n",
      "the number you guess is low than the random number, try again\n"
     ]
    }
   ],
   "source": [
    "# Task: Guess the Number Game\n",
    "\n",
    "# Description:\n",
    "# Write a Python program that generates a random number between 1 and 100.\n",
    "# The user should then repeatedly guess the number until they guess it correctly.\n",
    "# After each guess, the program should provide feedback to the user, indicating\n",
    "# whether their guess is too high, too low, or correct. Once the correct number is\n",
    "# guessed, the program should print the number of attempts it took the user to\n",
    "# guess the correct number.\n",
    "\n",
    "# Hints:\n",
    "\n",
    "# 1.Use a while loop to repeatedly prompt the user for their guess until they guess\n",
    "# the correct number.\n",
    "# 2.Use the random module to generate a random number between 1 and 100.\n",
    "# 3.Provide feedback to the user after each guess, indicating whether their guess is\n",
    "# too high, too low, or correct.\n",
    "# 4.Count the number of attempts it takes the user to guess the correct number and\n",
    "# print this count when the correct number is guessed.\n",
    "\n",
    "import random\n",
    "\n",
    "def game_start():\n",
    "    random_number = random.randint(1,100)\n",
    "    attemp = 0\n",
    "    \n",
    "    while True:\n",
    "        user_input = int(input(\"guess the number between 1 to 100: \"))\n",
    "        attemp +=1\n",
    "        \n",
    "        if random_number == user_input:\n",
    "            print(f\"you have successfully guess the correct number \\n you have attemp {attemp} times1\")\n",
    "            break\n",
    "        elif user_input  < random_number:\n",
    "            print(\"the number you guess is low than the random number, try again\")\n",
    "        else:\n",
    "            print(\"The number you guess is high thanthe random number, try again\")\n",
    "            \n",
    "game_start()\n",
    "            \n",
    "        \n",
    "    \n",
    "     \n",
    "    "
   ]
  },
  {
   "cell_type": "code",
   "execution_count": null,
   "id": "a96871b8",
   "metadata": {},
   "outputs": [],
   "source": []
  },
  {
   "cell_type": "code",
   "execution_count": null,
   "id": "f8d4d0bd",
   "metadata": {},
   "outputs": [],
   "source": []
  }
 ],
 "metadata": {
  "kernelspec": {
   "display_name": "Python 3 (ipykernel)",
   "language": "python",
   "name": "python3"
  },
  "language_info": {
   "codemirror_mode": {
    "name": "ipython",
    "version": 3
   },
   "file_extension": ".py",
   "mimetype": "text/x-python",
   "name": "python",
   "nbconvert_exporter": "python",
   "pygments_lexer": "ipython3",
   "version": "3.11.7"
  }
 },
 "nbformat": 4,
 "nbformat_minor": 5
}
