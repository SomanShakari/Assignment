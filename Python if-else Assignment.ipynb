{
 "cells": [
  {
   "cell_type": "code",
   "execution_count": 1,
   "id": "4aad57d6",
   "metadata": {},
   "outputs": [],
   "source": [
    "# python if-else statement Assignment-5"
   ]
  },
  {
   "cell_type": "code",
   "execution_count": 2,
   "id": "2a366585",
   "metadata": {},
   "outputs": [
    {
     "name": "stdout",
     "output_type": "stream",
     "text": [
      "Enter  electricity units: 350\n",
      "2000\n"
     ]
    }
   ],
   "source": [
    "# Q1. Write a program to calculate the electricity bill\n",
    "# using only if statement? (accept number of unit from user)\n",
    "# according to the following criteria:\n",
    "\n",
    "# Unit Price\n",
    "# First 100 units no charge\n",
    "# Next 100 units Rs 5 per unit\n",
    "# After 200 units Rs 10 per unit\n",
    "# (For example, if input unit is 350 than total bill amount is Rs2000). Lets explain...\n",
    "# For first 100 no charges\n",
    "# Now you have 250 unit remaining\n",
    "# 100-200 you need to pay – 100*5 = 500\n",
    "# Now 200-100 you need to pay 150*10 = 1500\n",
    "# Total = 500+1500 = 2000\n",
    "\n",
    "def electricity_bill_function(units):\n",
    "    electricity_bill = 0\n",
    "    \n",
    "    if units <=100:\n",
    "        electricity_bill = 0 \n",
    "    elif units <=200:\n",
    "        electricity_bill = (units - 100)*5\n",
    "    else:\n",
    "        electricity_bill = 100 * 5 + (units - 200)*10\n",
    "    return electricity_bill\n",
    "\n",
    "user_input_bill = int(input(\"Enter  electricity units: \"))\n",
    "print(electricity_bill_function(user_input_bill))"
   ]
  },
  {
   "cell_type": "code",
   "execution_count": 4,
   "id": "97ca9e8a",
   "metadata": {},
   "outputs": [
    {
     "name": "stdout",
     "output_type": "stream",
     "text": [
      "Student:Enter your percentage: 91\n",
      "A\n"
     ]
    }
   ],
   "source": [
    "# Q2. Write a program to accept percentage from the user and display\n",
    "# the grade according to the following criteria:\n",
    "\n",
    "# Marks Grade\n",
    "# > 90 A\n",
    "# > 80 and <= 90 B\n",
    "# >= 60 and <= 80 C\n",
    "# below 60 D\n",
    "\n",
    "def student_grade_function(student_percentage):\n",
    "    grade = 0\n",
    "    if student_percentage > 90:\n",
    "        grade = \"A\"\n",
    "    elif student_percentage > 80:\n",
    "        grade = \"B\"\n",
    "    elif student_percentage >= 60:\n",
    "        grade = \"C\"\n",
    "    else:\n",
    "        grade = \"D\"\n",
    "    return grade\n",
    "\n",
    "student_input_grade = int(input(\"Student:Enter your percentage: \"))\n",
    "print(student_grade_function(student_input_grade))\n"
   ]
  },
  {
   "cell_type": "code",
   "execution_count": 5,
   "id": "ac4ec1f1",
   "metadata": {},
   "outputs": [
    {
     "name": "stdout",
     "output_type": "stream",
     "text": [
      "Enter first person age: 40\n",
      "Enter second person age: 30\n",
      "Enter third person age: 67\n",
      "Enter fourth age: 34\n",
      "second person is youngest\n"
     ]
    }
   ],
   "source": [
    "# Q3. Accept the age of 4 people and display the youngest one?\n",
    "\n",
    "def people_age_function(person1,person2,person3,person4):\n",
    "    \n",
    "    if (person1 <= person2) and (person1 <=person3) and (person1 <= person4):\n",
    "        youngest = \"first person is youngest\"\n",
    "    elif (person2 <= person1) and (person2 <= person3) and (person2 <= person4):\n",
    "        youngest = \"second person is youngest\"\n",
    "    elif (person3 <= person1) and (person3 <= person2) and (person3 <= person4):\n",
    "        youngest = \"third person is youngest\"\n",
    "    else:\n",
    "        youngest = \"fourth person is youngest\"\n",
    "    return youngest\n",
    "    \n",
    "    \n",
    "first_person_age  = int(input(\"Enter first person age: \"))    \n",
    "second_person_age = int(input(\"Enter second person age: \"))\n",
    "third_person_age  = int(input(\"Enter third person age: \"))\n",
    "fourth_person_age = int(input(\"Enter fourth age: \"))\n",
    "\n",
    "\n",
    "    \n",
    "print(people_age_function(first_person_age,second_person_age,third_person_age,fourth_person_age))"
   ]
  },
  {
   "cell_type": "code",
   "execution_count": 4,
   "id": "fda19de2",
   "metadata": {},
   "outputs": [
    {
     "name": "stdout",
     "output_type": "stream",
     "text": [
      "Enter your salary: 50000\n",
      "Enter year of your job: 5\n",
      "The net bonus amount is : 2500.0\n"
     ]
    }
   ],
   "source": [
    "# Q4. A company decided to give bonus to employee\n",
    "# according to following criteria:\n",
    "# Time period of Service Bonus\n",
    "# More than 10 years 10%\n",
    "# >=6 and <=10 8%\n",
    "# Less than 6 years 5%\n",
    "\n",
    "\n",
    "# Ask user for their salary and years of service and print the\n",
    "# net bonus amount?\n",
    "\n",
    "\n",
    "def calculate_bonus(year_of_service,salary):\n",
    "    if year_of_service > 10:\n",
    "        calculate_bonus = 0.1\n",
    "    elif year_of_service >= 6:\n",
    "        calculate_bonus = 0.08\n",
    "    else:\n",
    "        calculate_bonus = 0.05\n",
    "    \n",
    "    bonus_amount = salary * calculate_bonus\n",
    "    return bonus_amount\n",
    "\n",
    "user_salary = int(input(\"Enter your salary: \"))\n",
    "\n",
    "year_of_service = int(input(\"Enter year of your job: \"))\n",
    "\n",
    "\n",
    "result = calculate_bonus(year_of_service,user_salary)\n",
    "print(\"The net bonus amount is :\",result)\n",
    "\n",
    "\n"
   ]
  },
  {
   "cell_type": "code",
   "execution_count": 13,
   "id": "02706546",
   "metadata": {},
   "outputs": [
    {
     "name": "stdout",
     "output_type": "stream",
     "text": [
      "Enter number 1: 4\n",
      "Enter number 2: 3\n",
      "Enter number 3: 2\n",
      "The second largest number is Number 2 :3\n"
     ]
    }
   ],
   "source": [
    "# Q5. Accept three numbers from the user and\n",
    "# display the second largest number?\n",
    "\n",
    "\n",
    "def calculate_largest_number(number1,number2,number3):\n",
    "    \n",
    "    if ((number1>number2) and (number1 <number3)) or ((number1<number2) and (number1 >number3)):\n",
    "        message = \"The second largest number is Number 1 :\"\n",
    "        largest_number = message + str(number1)\n",
    "    \n",
    "    elif ((number2>number1) and (number2<number3)) or ((number2<number1) and (number2>number3)):\n",
    "        message = \"The second largest number is Number 2 :\"\n",
    "        largest_number = message + str(number2)\n",
    "    else:\n",
    "        message = \"The second largest number is Number 3 :\"\n",
    "        largest_number = message + str(number3)\n",
    "    return largest_number\n",
    "\n",
    "number1 = int(input(\"Enter number 1: \"))\n",
    "number2 = int(input(\"Enter number 2: \"))\n",
    "number3 = int(input(\"Enter number 3: \"))\n",
    "\n",
    "result = calculate_largest_number(number1,number2,number3)\n",
    "print(result)\n",
    "\n",
    "\n"
   ]
  },
  {
   "cell_type": "code",
   "execution_count": 21,
   "id": "7af3dea6",
   "metadata": {},
   "outputs": [
    {
     "name": "stdout",
     "output_type": "stream",
     "text": [
      "Enter the market price: 11000\n",
      "market price after discount 8800.0\n"
     ]
    }
   ],
   "source": [
    "# Q6. Accept the marked price from the user and calculatethe Net amount as (Marked Price – Discount) to pay\n",
    "# according to following criteria:\n",
    "# Marked Price Discount\n",
    "# >10000 20%\n",
    "# >7000 and <=10000 15%\n",
    "# <=7000 10%\n",
    "\n",
    "def calculate_net_amount(market_price):\n",
    "    if market_price > 10000: \n",
    "        discount_percentage = 0.2\n",
    "    elif (market_price >7000):\n",
    "        discount_percentage = 0.15\n",
    "    else:\n",
    "        if market_price <= 7000:\n",
    "            discount_percentage = 0.1\n",
    "    discount_amount = market_price * discount_percentage\n",
    "    net_amount = market_price - discount_amount\n",
    "    return net_amount\n",
    "\n",
    "\n",
    "\n",
    "        \n",
    "\n",
    "user_input_market_price = float(input(\"Enter the market price: \"))\n",
    "result = calculate_net_amount(user_input_market_price) \n",
    "print(\"market price after discount {}\".format(result))\n",
    "\n"
   ]
  },
  {
   "cell_type": "code",
   "execution_count": null,
   "id": "dfe4d1b8",
   "metadata": {},
   "outputs": [],
   "source": [
    "# Q7. Accept the marks of English, Math and Science,Social Studies Subject and display the stream allotted according to following:\n",
    "\n",
    "# All Subjects more than 80 marks — Science Stream\n",
    "\n",
    "# English >80 and Math, Science above 50 — Commerce Stream\n",
    "\n",
    "# English > 80 and social studies > 80 — Humanities\n",
    "\n",
    "def stream_allotted(English_marks,Math_marks,Science_marks,Social_studies_marks):\n",
    "    if (English_marks > 80) and (Math_marks >80)  and (Science_marks >80) and (Social_studies_marks > 80):\n",
    "        stream = \"Science Stream\"\n",
    "    elif (English_marks > 80) and (Math_marks < 50) and (Science_marks < 50):\n",
    "        stream = \"Commerce Stream\"\n",
    "    else:\n",
    "        if (English_marks > 80) and (Social_studies_marks > 80): \n",
    "            stream = \"Humanities Stream\"\n",
    "    return stream\n",
    "\n",
    "        \n",
    "\n",
    "\n",
    "English_marks        = float(input(\"Enter the marks of English subject: \"))\n",
    "Math_marks           = float(input(\"Enter the marks of Math subject: \"))\n",
    "Science_marks        = float(input(\"Enter the marks of Science subject: \"))\n",
    "Social_studies_marks = float(input(\"Enter the marks of Social studies subject: \"))\n",
    "\n",
    "result = stream_allotted(English_marks,Math_marks,Science_marks,Social_studies_marks)\n",
    "print(\"You are allotted to  %s\"%result)\n",
    "\n"
   ]
  },
  {
   "cell_type": "code",
   "execution_count": 2,
   "id": "7192bb50",
   "metadata": {},
   "outputs": [
    {
     "name": "stdout",
     "output_type": "stream",
     "text": [
      "Enter a number please: 4\n",
      "Bye\n"
     ]
    }
   ],
   "source": [
    "# Q8. Write a program to display \"Hello\" if a number entered\n",
    "# by user is a multiple of five, otherwise print \"Bye\"?\n",
    "\n",
    "def checking_number(user_input):\n",
    "    if user_input % 5 == 0:\n",
    "        message = \"Hi\"\n",
    "    else:\n",
    "        message = \"Bye\"\n",
    "    return message\n",
    "\n",
    "\n",
    "\n",
    "user_input = int(input(\"Enter a number please: \"))\n",
    "print(checking_number(user_input))"
   ]
  },
  {
   "cell_type": "code",
   "execution_count": 3,
   "id": "cb44b202",
   "metadata": {},
   "outputs": [
    {
     "name": "stdout",
     "output_type": "stream",
     "text": [
      "Enter your number please: 123\n",
      " The last digit of this number is divisible by 3\n"
     ]
    }
   ],
   "source": [
    "# Q9. Write a program to check whether the last digit of a number            \n",
    "# (entered by user) is divisible by 3 or not?             (Error)\n",
    "\n",
    "def check_last_digit(user_input):\n",
    "   # user_entered_number =  user_input[-1]\n",
    "\n",
    "\n",
    "    last_digit = user_input % 10\n",
    "    \n",
    "    if last_digit % 3 == 0:\n",
    "        message = \" The last digit of this number is divisible by 3\"\n",
    "    else:\n",
    "        message = \" The last digit of this number is nit divisible by 3\"\n",
    "    return message\n",
    "\n",
    "user_input = int(input(\"Enter your number please: \"))\n",
    "print(check_last_digit(user_input))"
   ]
  },
  {
   "cell_type": "code",
   "execution_count": 5,
   "id": "5b93e725",
   "metadata": {},
   "outputs": [
    {
     "name": "stdout",
     "output_type": "stream",
     "text": [
      "Enter a number: 876\n",
      "876 is a three-digit number.\n"
     ]
    }
   ],
   "source": [
    "# Q10. Write a program to check whether a number entered\n",
    "# is three-digit number or not?\n",
    "\n",
    "\n",
    "def is_three_digit_number(num):\n",
    "    if 100 <= num <= 999:\n",
    "        return True\n",
    "    else:\n",
    "        return False\n",
    "\n",
    "\n",
    "user_input = int(input(\"Enter a number: \"))\n",
    "\n",
    "\n",
    "if is_three_digit_number(user_input):\n",
    "    print(f\"{user_input} is a three-digit number.\")\n",
    "else:\n",
    "    print(f\"{user_input} is not a three-digit number.\")\n"
   ]
  },
  {
   "cell_type": "code",
   "execution_count": null,
   "id": "eabc80a7",
   "metadata": {},
   "outputs": [],
   "source": []
  }
 ],
 "metadata": {
  "kernelspec": {
   "display_name": "Python 3 (ipykernel)",
   "language": "python",
   "name": "python3"
  },
  "language_info": {
   "codemirror_mode": {
    "name": "ipython",
    "version": 3
   },
   "file_extension": ".py",
   "mimetype": "text/x-python",
   "name": "python",
   "nbconvert_exporter": "python",
   "pygments_lexer": "ipython3",
   "version": "3.11.7"
  }
 },
 "nbformat": 4,
 "nbformat_minor": 5
}
