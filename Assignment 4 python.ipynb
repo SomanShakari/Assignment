{
 "cells": [
  {
   "cell_type": "code",
   "execution_count": null,
   "id": "e46384ae",
   "metadata": {},
   "outputs": [],
   "source": [
    "# Assignment 4 python\n"
   ]
  },
  {
   "cell_type": "code",
   "execution_count": 6,
   "id": "da3d238d",
   "metadata": {},
   "outputs": [
    {
     "name": "stdout",
     "output_type": "stream",
     "text": [
      "Enter a number please: 3\n",
      "Factorial of 3 is 6\n"
     ]
    }
   ],
   "source": [
    "# 1. Write a Python Program to Find the Factorial of a Number?\n",
    "\n",
    "def factorial_number(number):\n",
    "    \n",
    "    fact =1\n",
    "    for i in range(1,number+1):\n",
    "        fact = fact*i\n",
    "    return fact\n",
    "\n",
    "number = int(input(\"Enter a number please: \"))\n",
    "result = factorial_number(number)\n",
    "print(f\"Factorial of {number} is {result}\")\n"
   ]
  },
  {
   "cell_type": "code",
   "execution_count": 4,
   "id": "30dfcd2a",
   "metadata": {},
   "outputs": [
    {
     "name": "stdout",
     "output_type": "stream",
     "text": [
      "Enter a number to display it's multiplication table: 9\n",
      "9 x 1 = 9\n",
      "9 x 2 = 18\n",
      "9 x 3 = 27\n",
      "9 x 4 = 36\n",
      "9 x 5 = 45\n",
      "9 x 6 = 54\n",
      "9 x 7 = 63\n",
      "9 x 8 = 72\n",
      "9 x 9 = 81\n",
      "9 x 10 = 90\n"
     ]
    }
   ],
   "source": [
    "# 2. Write a Python Program to Display the multiplication Table?\n",
    "\n",
    "def multiplication_table(table):\n",
    "    for i in range(1,10+1):\n",
    "         print(f\"{table} x {i} = {table * i}\")\n",
    "        \n",
    "            \n",
    "\n",
    "try:\n",
    "    table = int(input(\"Enter a number to display it's multiplication table: \"))\n",
    "    multiplication_table(table)\n",
    "    \n",
    "except ValueError:\n",
    "    print(\"Invalid Input, Please enter a valid integer\")\n"
   ]
  },
  {
   "cell_type": "code",
   "execution_count": 11,
   "id": "84023dea",
   "metadata": {},
   "outputs": [
    {
     "name": "stdout",
     "output_type": "stream",
     "text": [
      "Enter a number to print Fibonacci sequence: 5\n",
      "Fibonacci sequence:\n",
      "0 \n",
      "1 \n",
      "1 \n",
      "2 \n",
      "3 \n"
     ]
    }
   ],
   "source": [
    "# 3. Write a Python Program to Print the Fibonacci sequence?\n",
    "\n",
    "def fibonacci_sequence(number):\n",
    "    a, b = 0, 1\n",
    "    print(\"Fibonacci sequence:\")\n",
    "    for _ in range(number):\n",
    "        print(a, end=\" \")\n",
    "        a, b = b, a + b\n",
    "        print() \n",
    "\n",
    "try:\n",
    "    number = int(input(\"Enter a number to print Fibonacci sequence: \"))\n",
    "    if number < 0:\n",
    "        print(\"negative numbers are not accepted!\")\n",
    "    else:\n",
    "        fibonacci_sequence(number)\n",
    "except ValueError:\n",
    "    print(\"Please enter a valid integer!\")"
   ]
  },
  {
   "cell_type": "code",
   "execution_count": 18,
   "id": "c5807bfc",
   "metadata": {},
   "outputs": [
    {
     "name": "stdout",
     "output_type": "stream",
     "text": [
      "Enter a number: 407\n",
      "407 is an Armstrong number\n"
     ]
    }
   ],
   "source": [
    "# Python program to check if the number is an Armstrong number or not\n",
    "\n",
    "num = int(input(\"Enter a number: \"))\n",
    "\n",
    "sum = 0\n",
    "\n",
    "# find the sum of the cube of each digit\n",
    "temp = num\n",
    "while temp > 0:\n",
    "   digit = temp % 10\n",
    "   sum += digit ** 3\n",
    "   temp //= 10\n",
    "\n",
    "# display the result\n",
    "if num == sum:\n",
    "   print(num,\"is an Armstrong number\")\n",
    "else:\n",
    "   print(num,\"is not an Armstrong number\")\n"
   ]
  },
  {
   "cell_type": "code",
   "execution_count": 21,
   "id": "db53ab78",
   "metadata": {},
   "outputs": [
    {
     "name": "stdout",
     "output_type": "stream",
     "text": [
      "153\n",
      "370\n",
      "371\n",
      "407\n",
      "1634\n"
     ]
    }
   ],
   "source": [
    "# 5. Write a Python Program to Find Armstrong Number in an Interval?\n",
    "\n",
    "# Program to check Armstrong numbers in a certain interval\n",
    "\n",
    "lower = 100\n",
    "upper = 2000\n",
    "\n",
    "for num in range(lower, upper + 1):\n",
    "\n",
    "   # order of number\n",
    "   order = len(str(num))\n",
    "    \n",
    "   # initialize sum\n",
    "   sum = 0\n",
    "\n",
    "   temp = num\n",
    "   while temp > 0:\n",
    "       digit = temp % 10\n",
    "       sum += digit ** order\n",
    "       temp //= 10\n",
    "\n",
    "   if num == sum:\n",
    "       print(num)\n"
   ]
  },
  {
   "cell_type": "code",
   "execution_count": 23,
   "id": "47c07d38",
   "metadata": {},
   "outputs": [
    {
     "name": "stdout",
     "output_type": "stream",
     "text": [
      "Enter a number to find the sum of natural numbers up to that number: 10\n",
      "The sum of natural numbers from 1 to 10 is 55.\n"
     ]
    }
   ],
   "source": [
    "# 6. Write a Python Program to Find the Sum of Natural Numbers?\n",
    "\n",
    "def sum_of_natural_numbers_loop(n):\n",
    "    \"\"\"Calculate the sum of natural numbers from 1 to n using a loop.\"\"\"\n",
    "    total = 0\n",
    "    for i in range(1, n + 1):\n",
    "        total += i\n",
    "    return total\n",
    "\n",
    "# Example usage\n",
    "try:\n",
    "    n = int(input(\"Enter a number to find the sum of natural numbers up to that number: \"))\n",
    "    if n < 0:\n",
    "        print(\"Please enter a non-negative integer.\")\n",
    "    else:\n",
    "        sum_result = sum_of_natural_numbers_loop(n)\n",
    "        print(f\"The sum of natural numbers from 1 to {n} is {sum_result}.\")\n",
    "except ValueError:\n",
    "    print(\"Please enter a valid integer.\")\n"
   ]
  },
  {
   "cell_type": "code",
   "execution_count": null,
   "id": "1f040285",
   "metadata": {},
   "outputs": [],
   "source": []
  }
 ],
 "metadata": {
  "kernelspec": {
   "display_name": "Python 3 (ipykernel)",
   "language": "python",
   "name": "python3"
  },
  "language_info": {
   "codemirror_mode": {
    "name": "ipython",
    "version": 3
   },
   "file_extension": ".py",
   "mimetype": "text/x-python",
   "name": "python",
   "nbconvert_exporter": "python",
   "pygments_lexer": "ipython3",
   "version": "3.11.7"
  }
 },
 "nbformat": 4,
 "nbformat_minor": 5
}
