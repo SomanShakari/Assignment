{
 "cells": [
  {
   "cell_type": "code",
   "execution_count": 1,
   "id": "7c34f85e",
   "metadata": {},
   "outputs": [],
   "source": [
    " # using all type of parameters in function"
   ]
  },
  {
   "cell_type": "code",
   "execution_count": 10,
   "id": "76c8480d",
   "metadata": {},
   "outputs": [
    {
     "name": "stdout",
     "output_type": "stream",
     "text": [
      "('soman shakari', 'AI', ('green', 'red'), {'gender': 'female', 'pet': 'cat'})\n"
     ]
    }
   ],
   "source": [
    "\n",
    "\n",
    "def parameter_function(student_name, course=\"python\",*args,**kwargs):\n",
    "#     for arg in args:\n",
    "#         print(arg)\n",
    "        \n",
    "#         for key,value in kwargs.items():\n",
    "#             print(key,value)\n",
    "        return student_name,course,args,kwargs,\n",
    "\n",
    "            \n",
    "            \n",
    "print(parameter_function(\"soman shakari\", \"AI\",\"green\",\"red\", gender=\"female\",pet=\"cat\"))"
   ]
  },
  {
   "cell_type": "code",
   "execution_count": null,
   "id": "3f5eccfa",
   "metadata": {},
   "outputs": [],
   "source": []
  }
 ],
 "metadata": {
  "kernelspec": {
   "display_name": "Python 3 (ipykernel)",
   "language": "python",
   "name": "python3"
  },
  "language_info": {
   "codemirror_mode": {
    "name": "ipython",
    "version": 3
   },
   "file_extension": ".py",
   "mimetype": "text/x-python",
   "name": "python",
   "nbconvert_exporter": "python",
   "pygments_lexer": "ipython3",
   "version": "3.11.7"
  }
 },
 "nbformat": 4,
 "nbformat_minor": 5
}
